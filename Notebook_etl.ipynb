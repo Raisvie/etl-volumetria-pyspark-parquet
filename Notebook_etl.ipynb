{
 "cells": [
  {
   "cell_type": "markdown",
   "id": "551a2d74",
   "metadata": {},
   "source": [
    "GEração de dados sinteticos brutos"
   ]
  },
  {
   "cell_type": "code",
   "execution_count": 4,
   "id": "777348b4",
   "metadata": {},
   "outputs": [],
   "source": [
    "# geracao de dados sinteticos\n",
    "from faker import Faker\n",
    "import pandas as pd\n",
    "import random\n",
    "\n",
    "fake = Faker()\n",
    "data = []\n",
    "for _ in range(1_000_000):\n",
    "    data.append({\n",
    "        \"pedido_id\": fake.uuid4(),\n",
    "        \"restaurante_id\": fake.uuid4(),\n",
    "        \"cliente_id\": fake.uuid4(),\n",
    "        \"valor_total\": round(random.uniform(10, 150), 2),\n",
    "        \"data_pedido\": fake.date_between(start_date='-30d', end_date='today').isoformat(),\n",
    "        \"forma_pagamento\": random.choice(['crédito', 'débito', 'pix', 'voucher']),\n",
    "    })\n",
    "\n",
    "df = pd.DataFrame(data)\n",
    "#df.to_csv(\"pedidos.csv\", index=False)"
   ]
  },
  {
   "cell_type": "code",
   "execution_count": null,
   "id": "94b2bfa4",
   "metadata": {},
   "outputs": [],
   "source": [
    "from faker import Faker\n",
    "import pandas as pd\n",
    "import random\n",
    "\n",
    "fake = Faker()\n",
    "#random.seed(42)\n",
    "\n",
    "data_gerados = []\n",
    "\n",
    "## ## Geração de 1 milhão de registros sintéticos de pedidos para simulação\n",
    "for i in range(1_000_000):\n",
    "    data.append({\n",
    "        \"pedido_id\": f\"{random.randint(10000, 99999)}\",\n",
    "        \"restaurante_id\": f\"{random.randint(10000, 99999)}\",\n",
    "        \"cliente_id\": f\"{random.randint(10000, 99999)}\",\n",
    "        \"valor_total\": round(random.uniform(10, 150), 2),\n",
    "        \"data_pedido\": fake.date_between(start_date='-30d', end_date='today').isoformat(),\n",
    "        \"forma_pagamento\": random.choice(['crédito', 'débito', 'pix', 'voucher']),\n",
    "    })\n",
    "\n",
    "df_SOR = pd.DataFrame(data)\n",
    "df_SOR.to_parquet(\"pedidos.parquet\", index=False)"
   ]
  },
  {
   "cell_type": "code",
   "execution_count": 8,
   "id": "22ac8091",
   "metadata": {},
   "outputs": [
    {
     "data": {
      "text/plain": [
       "<bound method NDFrame.head of        pedido_id restaurante_id cliente_id  valor_total data_pedido  \\\n",
       "0          93810          24592      13278       113.82  2025-06-30   \n",
       "1          39256          28289      23434       104.74  2025-07-02   \n",
       "2          87397          65302      14165        14.17  2025-06-15   \n",
       "3          40495          76237      88907        13.72  2025-06-12   \n",
       "4          95181          81426      64987        40.86  2025-06-28   \n",
       "...          ...            ...        ...          ...         ...   \n",
       "999995     37339          13159      78108        92.97  2025-07-05   \n",
       "999996     13420          30599      41233       135.57  2025-06-30   \n",
       "999997     96775          85757      37780        64.32  2025-06-30   \n",
       "999998     30273          27196      58452        90.17  2025-06-21   \n",
       "999999     52384          40346      60174       134.55  2025-06-12   \n",
       "\n",
       "       forma_pagamento  \n",
       "0               débito  \n",
       "1              crédito  \n",
       "2               débito  \n",
       "3               débito  \n",
       "4                  pix  \n",
       "...                ...  \n",
       "999995          débito  \n",
       "999996         voucher  \n",
       "999997         voucher  \n",
       "999998             pix  \n",
       "999999          débito  \n",
       "\n",
       "[1000000 rows x 6 columns]>"
      ]
     },
     "execution_count": 8,
     "metadata": {},
     "output_type": "execute_result"
    }
   ],
   "source": [
    "df.head"
   ]
  },
  {
   "cell_type": "code",
   "execution_count": null,
   "id": "65747015",
   "metadata": {},
   "outputs": [],
   "source": [
    "df.to_parquet('pedidos.parquet')"
   ]
  },
  {
   "cell_type": "code",
   "execution_count": null,
   "id": "c556d8d2",
   "metadata": {},
   "outputs": [],
   "source": []
  },
  {
   "cell_type": "code",
   "execution_count": 13,
   "id": "61960120",
   "metadata": {},
   "outputs": [],
   "source": [
    "df.to_parquet(\"pedidos.parquet\", index=False)\n"
   ]
  },
  {
   "cell_type": "code",
   "execution_count": 11,
   "id": "5ef8bf17",
   "metadata": {},
   "outputs": [],
   "source": [
    "df.to_csv(\"pedidos.csv\", index=False)"
   ]
  }
 ],
 "metadata": {
  "kernelspec": {
   "display_name": "venv_etl",
   "language": "python",
   "name": "python3"
  },
  "language_info": {
   "codemirror_mode": {
    "name": "ipython",
    "version": 3
   },
   "file_extension": ".py",
   "mimetype": "text/x-python",
   "name": "python",
   "nbconvert_exporter": "python",
   "pygments_lexer": "ipython3",
   "version": "3.11.7"
  }
 },
 "nbformat": 4,
 "nbformat_minor": 5
}
